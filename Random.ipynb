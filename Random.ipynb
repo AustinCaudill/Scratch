{
 "cells": [
  {
   "cell_type": "code",
   "execution_count": 5,
   "metadata": {},
   "outputs": [
    {
     "data": {
      "image/png": "[encoded data removed]",
      "text/plain": [
       "<Figure size 432x288 with 1 Axes>"
      ]
     },
     "metadata": {
      "needs_background": "light"
     },
     "output_type": "display_data"
    }
   ],
   "source": [
    "import numpy as np\n",
    "import matplotlib.pyplot as plt\n",
    "from sklearn.linear_model import LinearRegression\n",
    "\n",
    "# Create updated sample production data\n",
    "time = np.array(range(0, 365, 30)).reshape(-1, 1)\n",
    "production = 1000 * np.exp(-0.05 * time[:, 0])\n",
    "\n",
    "# Fit a linear regression model to the data\n",
    "linear_model = LinearRegression()\n",
    "linear_model.fit(time, production)\n",
    "\n",
    "# Fit an exponential decline model to the data\n",
    "exp_model = np.polyfit(time[:, 0], np.log(production), 1)\n",
    "exp_fit = np.exp(exp_model[1]) * np.exp(exp_model[0] * time[:, 0])\n",
    "\n",
    "# Fit a harmonic decline model to the data\n",
    "harmonic_model = np.polyfit(time[:, 0], 1 / production, 1)\n",
    "harmonic_fit = 1 / (harmonic_model[0] * time[:, 0] + harmonic_model[1])\n",
    "\n",
    "# Plot the data and the fitted models\n",
    "plt.scatter(time, production, color=\"black\")\n",
    "plt.plot(time, linear_model.predict(time), label=\"Linear Regression\", color=\"blue\")\n",
    "plt.plot(time, exp_fit, label=\"Exponential Decline\", color=\"red\")\n",
    "plt.plot(time, harmonic_fit, label=\"Harmonic Decline\", color=\"green\")\n",
    "plt.xlabel(\"Time (days)\")\n",
    "plt.ylabel(\"Production (bbl/day)\")\n",
    "plt.legend()\n",
    "plt.show()"
   ]
  },
  {
   "cell_type": "code",
   "execution_count": null,
   "metadata": {},
   "outputs": [],
   "source": [
    "import requests\n",
    "from bs4 import BeautifulSoup\n",
    "from wordcloud import WordCloud\n",
    "import matplotlib.pyplot as plt\n",
    "from PIL import Image\n",
    "\n",
    "# Get the URLs of all pages on the domain\n",
    "def get_page_urls(url):\n",
    "    response = requests.get(url)\n",
    "    soup = BeautifulSoup(response.content, \"html.parser\")\n",
    "    page_urls = []\n",
    "    for link in soup.find_all(\"a\"):\n",
    "        page_url = link.get(\"href\")\n",
    "        if page_url and page_url.startswith(url):\n",
    "            page_urls.append(page_url)\n",
    "    return page_urls\n",
    "\n",
    "# Get the text from all pages on the domain\n",
    "def get_page_text(urls):\n",
    "    text = \"\"\n",
    "    for url in urls:\n",
    "        response = requests.get(url)\n",
    "        soup = BeautifulSoup(response.content, \"html.parser\")\n",
    "        text += soup.get_text()\n",
    "    return text\n",
    "\n",
    "# Generate a word cloud in the shape of an oil barrel\n",
    "def generate_wordcloud(text):\n",
    "    mask = np.array(Image.open(\"oil_barrel.png\"))\n",
    "    wordcloud = WordCloud(mask=mask, background_color=\"white\").generate(text)\n",
    "    plt.imshow(wordcloud, interpolation='bilinear')\n",
    "    plt.axis(\"off\")\n",
    "    plt.show()\n",
    "\n",
    "# Main function\n",
    "def main():\n",
    "    url = \"http://www.daylightpetroleum.com\"\n",
    "    page_urls = get_page_urls(url)\n",
    "    text = get_page_text(page_urls)\n",
    "    generate_wordcloud(text)\n",
    "\n",
    "# Run the main function\n",
    "if __name__ == \"__main__\":\n",
    "    main()"
   ]
  }
 ],
 "metadata": {
  "kernelspec": {
   "display_name": "base",
   "language": "python",
   "name": "python3"
  },
  "language_info": {
   "codemirror_mode": {
    "name": "ipython",
    "version": 3
   },
   "file_extension": ".py",
   "mimetype": "text/x-python",
   "name": "python",
   "nbconvert_exporter": "python",
   "pygments_lexer": "ipython3",
   "version": "3.9.12 (main, Apr  4 2022, 05:22:27) [MSC v.1916 64 bit (AMD64)]"
  },
  "orig_nbformat": 4,
  "vscode": {
   "interpreter": {
    "hash": "eda7169a73b899e3a4265a2c61d87a7732123594a73e74f27b74e7579ab96fbe"
   }
  }
 },
 "nbformat": 4,
 "nbformat_minor": 2
}
